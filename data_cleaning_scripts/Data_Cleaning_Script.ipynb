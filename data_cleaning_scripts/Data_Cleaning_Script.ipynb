{
  "cells": [
    {
      "cell_type": "markdown",
      "metadata": {
        "id": "nY3j3fnuNk_A"
      },
      "source": [
        "# Data Cleaning for Austin Bikeshare Data\n"
      ]
    },
    {
      "cell_type": "code",
      "execution_count": 3,
      "metadata": {
        "id": "rfTcTc609EoY"
      },
      "outputs": [],
      "source": [
        "## Change to False if you do not want to download any necessary files \n",
        "download_files = False \n",
        "\n",
        "## Libraries for Data Processing\n",
        "import numpy as np\n",
        "import pandas as pd\n",
        "import datetime as dt \n",
        "\n",
        "## code to read in data (path may need to be adjusted based on working directory)\n",
        "station_data = pd.read_csv(\"../data/austin_bikeshare_stations.csv\")\n",
        "trips_data = pd.read_csv(\"../data/austin_bikeshare_trips.csv\")"
      ]
    },
    {
      "cell_type": "markdown",
      "metadata": {
        "id": "xQmte6Oxkwuv"
      },
      "source": [
        "## Exploring and Understanding the Dataset\n",
        "Using pandas built-in functions such as `.describe()`, `.isna()` and `.nunique()`, this section will inspect each variable from both the stations and trips dataset and check for unordinary statistics and invalid data to prepare for data cleaning"
      ]
    },
    {
      "cell_type": "markdown",
      "metadata": {
        "id": "VAL5hPtxOYhi"
      },
      "source": [
        "### trips_data"
      ]
    },
    {
      "cell_type": "code",
      "execution_count": 4,
      "metadata": {
        "colab": {
          "base_uri": "https://localhost:8080/",
          "height": 300
        },
        "id": "AloQ_hWLNAjo",
        "outputId": "d60f5b3e-247d-4a79-8d95-bb32c136c549"
      },
      "outputs": [
        {
          "data": {
            "text/html": [
              "<div>\n",
              "<style scoped>\n",
              "    .dataframe tbody tr th:only-of-type {\n",
              "        vertical-align: middle;\n",
              "    }\n",
              "\n",
              "    .dataframe tbody tr th {\n",
              "        vertical-align: top;\n",
              "    }\n",
              "\n",
              "    .dataframe thead th {\n",
              "        text-align: right;\n",
              "    }\n",
              "</style>\n",
              "<table border=\"1\" class=\"dataframe\">\n",
              "  <thead>\n",
              "    <tr style=\"text-align: right;\">\n",
              "      <th></th>\n",
              "      <th>bikeid</th>\n",
              "      <th>duration_minutes</th>\n",
              "      <th>end_station_id</th>\n",
              "      <th>month</th>\n",
              "      <th>start_station_id</th>\n",
              "      <th>trip_id</th>\n",
              "      <th>year</th>\n",
              "    </tr>\n",
              "  </thead>\n",
              "  <tbody>\n",
              "    <tr>\n",
              "      <th>count</th>\n",
              "      <td>648508.000000</td>\n",
              "      <td>649231.000000</td>\n",
              "      <td>629389.000000</td>\n",
              "      <td>618479.000000</td>\n",
              "      <td>630190.000000</td>\n",
              "      <td>6.492310e+05</td>\n",
              "      <td>618479.000000</td>\n",
              "    </tr>\n",
              "    <tr>\n",
              "      <th>mean</th>\n",
              "      <td>471.615214</td>\n",
              "      <td>29.127506</td>\n",
              "      <td>2582.470617</td>\n",
              "      <td>5.887185</td>\n",
              "      <td>2584.238288</td>\n",
              "      <td>5.384945e+09</td>\n",
              "      <td>2015.340026</td>\n",
              "    </tr>\n",
              "    <tr>\n",
              "      <th>std</th>\n",
              "      <td>323.588379</td>\n",
              "      <td>87.278642</td>\n",
              "      <td>319.898534</td>\n",
              "      <td>3.206358</td>\n",
              "      <td>320.840964</td>\n",
              "      <td>4.925349e+09</td>\n",
              "      <td>1.019771</td>\n",
              "    </tr>\n",
              "    <tr>\n",
              "      <th>min</th>\n",
              "      <td>3.000000</td>\n",
              "      <td>0.000000</td>\n",
              "      <td>1001.000000</td>\n",
              "      <td>1.000000</td>\n",
              "      <td>1001.000000</td>\n",
              "      <td>8.269930e+06</td>\n",
              "      <td>2013.000000</td>\n",
              "    </tr>\n",
              "    <tr>\n",
              "      <th>25%</th>\n",
              "      <td>208.000000</td>\n",
              "      <td>8.000000</td>\n",
              "      <td>2499.000000</td>\n",
              "      <td>3.000000</td>\n",
              "      <td>2501.000000</td>\n",
              "      <td>1.274709e+07</td>\n",
              "      <td>2014.000000</td>\n",
              "    </tr>\n",
              "    <tr>\n",
              "      <th>50%</th>\n",
              "      <td>417.000000</td>\n",
              "      <td>15.000000</td>\n",
              "      <td>2548.000000</td>\n",
              "      <td>5.000000</td>\n",
              "      <td>2549.000000</td>\n",
              "      <td>9.900028e+09</td>\n",
              "      <td>2015.000000</td>\n",
              "    </tr>\n",
              "    <tr>\n",
              "      <th>75%</th>\n",
              "      <td>745.000000</td>\n",
              "      <td>28.000000</td>\n",
              "      <td>2571.000000</td>\n",
              "      <td>9.000000</td>\n",
              "      <td>2571.000000</td>\n",
              "      <td>9.900190e+09</td>\n",
              "      <td>2016.000000</td>\n",
              "    </tr>\n",
              "    <tr>\n",
              "      <th>max</th>\n",
              "      <td>5089.000000</td>\n",
              "      <td>21296.000000</td>\n",
              "      <td>3687.000000</td>\n",
              "      <td>12.000000</td>\n",
              "      <td>3687.000000</td>\n",
              "      <td>9.900353e+09</td>\n",
              "      <td>2017.000000</td>\n",
              "    </tr>\n",
              "  </tbody>\n",
              "</table>\n",
              "</div>"
            ],
            "text/plain": [
              "              bikeid  duration_minutes  end_station_id          month  \\\n",
              "count  648508.000000     649231.000000   629389.000000  618479.000000   \n",
              "mean      471.615214         29.127506     2582.470617       5.887185   \n",
              "std       323.588379         87.278642      319.898534       3.206358   \n",
              "min         3.000000          0.000000     1001.000000       1.000000   \n",
              "25%       208.000000          8.000000     2499.000000       3.000000   \n",
              "50%       417.000000         15.000000     2548.000000       5.000000   \n",
              "75%       745.000000         28.000000     2571.000000       9.000000   \n",
              "max      5089.000000      21296.000000     3687.000000      12.000000   \n",
              "\n",
              "       start_station_id       trip_id           year  \n",
              "count     630190.000000  6.492310e+05  618479.000000  \n",
              "mean        2584.238288  5.384945e+09    2015.340026  \n",
              "std          320.840964  4.925349e+09       1.019771  \n",
              "min         1001.000000  8.269930e+06    2013.000000  \n",
              "25%         2501.000000  1.274709e+07    2014.000000  \n",
              "50%         2549.000000  9.900028e+09    2015.000000  \n",
              "75%         2571.000000  9.900190e+09    2016.000000  \n",
              "max         3687.000000  9.900353e+09    2017.000000  "
            ]
          },
          "execution_count": 4,
          "metadata": {},
          "output_type": "execute_result"
        }
      ],
      "source": [
        "trips_data.describe() "
      ]
    },
    {
      "cell_type": "code",
      "execution_count": 5,
      "metadata": {
        "colab": {
          "base_uri": "https://localhost:8080/",
          "height": 283
        },
        "id": "Fdrowj3qLVI6",
        "outputId": "5455d934-3452-4e9e-9b70-36d0cd76b6ce"
      },
      "outputs": [
        {
          "data": {
            "text/plain": [
              "<Axes: >"
            ]
          },
          "execution_count": 5,
          "metadata": {},
          "output_type": "execute_result"
        },
        {
          "data": {
            "image/png": "[encoded data removed]",
            "text/plain": [
              "<Figure size 640x480 with 1 Axes>"
            ]
          },
          "metadata": {},
          "output_type": "display_data"
        }
      ],
      "source": [
        "trips_data[['duration_minutes']].boxplot()"
      ]
    },
    {
      "cell_type": "code",
      "execution_count": 6,
      "metadata": {
        "colab": {
          "base_uri": "https://localhost:8080/"
        },
        "id": "8oMHBwSsPjJh",
        "outputId": "4f3a01bc-a190-4efc-aba3-48f682cfc20e"
      },
      "outputs": [
        {
          "data": {
            "text/plain": [
              "bikeid                   410\n",
              "checkout_time          65663\n",
              "duration_minutes        1417\n",
              "end_station_id            71\n",
              "end_station_name          92\n",
              "month                     12\n",
              "start_station_id          71\n",
              "start_station_name        90\n",
              "start_time            357010\n",
              "subscriber_type           52\n",
              "trip_id               649231\n",
              "year                       5\n",
              "dtype: int64"
            ]
          },
          "execution_count": 6,
          "metadata": {},
          "output_type": "execute_result"
        }
      ],
      "source": [
        "trips_data.nunique() "
      ]
    },
    {
      "cell_type": "code",
      "execution_count": 7,
      "metadata": {
        "colab": {
          "base_uri": "https://localhost:8080/"
        },
        "id": "FTDOU-3zQjL6",
        "outputId": "3778d272-073e-4289-9cc1-f73ed9e4cbf6"
      },
      "outputs": [
        {
          "data": {
            "text/plain": [
              "bikeid                  723\n",
              "checkout_time             0\n",
              "duration_minutes          0\n",
              "end_station_id        19842\n",
              "end_station_name          0\n",
              "month                 30752\n",
              "start_station_id      19041\n",
              "start_station_name        0\n",
              "start_time                0\n",
              "subscriber_type        2077\n",
              "trip_id                   0\n",
              "year                  30752\n",
              "dtype: int64"
            ]
          },
          "execution_count": 7,
          "metadata": {},
          "output_type": "execute_result"
        }
      ],
      "source": [
        "trips_data.isna().sum()"
      ]
    },
    {
      "cell_type": "markdown",
      "metadata": {
        "id": "Oz1pPKLOPgc6"
      },
      "source": [
        "#### Findings\n",
        "- From the first table, range of month and year are reasonable but the range of `duration_minutes` stands out. `duration_minutes` has mean of 29.13 where 75% quartile is 28 but maximum is 21296. Pltting a boxplot shows clearly that the data is greatly skewed and has large outliers\n",
        "\n",
        "- 'id' variables are for identification purposes hence the value and distribution provides little information. Looking at the unique values of each variable shows the number of `end_station_id`s are different from the `end_station_name` (same as for `start_station_id` and `start_station_name`).\n",
        "\n",
        "- Looking further at the missing values for each variable, we see that the mismatch in number of names and id might have to do with NA values.\n",
        "\n",
        "- `month` and `year` also have missing values, which can be extracted from `start_time` (has both date and time)"
      ]
    },
    {
      "cell_type": "markdown",
      "metadata": {
        "id": "DN-IvEZXQn_W"
      },
      "source": [
        "### Station_data"
      ]
    },
    {
      "cell_type": "code",
      "execution_count": 8,
      "metadata": {
        "colab": {
          "base_uri": "https://localhost:8080/"
        },
        "id": "BTbfUCUJUnTj",
        "outputId": "7802157d-2ea2-4cdd-ae77-044ca599ffe0"
      },
      "outputs": [
        {
          "data": {
            "text/plain": [
              "latitude      0\n",
              "location      0\n",
              "longitude     0\n",
              "name          0\n",
              "station_id    0\n",
              "status        0\n",
              "dtype: int64"
            ]
          },
          "execution_count": 8,
          "metadata": {},
          "output_type": "execute_result"
        }
      ],
      "source": [
        "station_data.isna().sum() ## there are no missing values "
      ]
    },
    {
      "cell_type": "code",
      "execution_count": 9,
      "metadata": {
        "colab": {
          "base_uri": "https://localhost:8080/"
        },
        "id": "mbYgHyvqUqVf",
        "outputId": "93822951-b607-430d-d351-fab4e03a23d5"
      },
      "outputs": [
        {
          "data": {
            "text/plain": [
              "latitude      72\n",
              "location      72\n",
              "longitude     72\n",
              "name          72\n",
              "station_id    72\n",
              "status         4\n",
              "dtype: int64"
            ]
          },
          "execution_count": 9,
          "metadata": {},
          "output_type": "execute_result"
        }
      ],
      "source": [
        "station_data.nunique()"
      ]
    },
    {
      "cell_type": "markdown",
      "metadata": {
        "id": "7RecwrW0QzDm"
      },
      "source": [
        "#### Findings\n",
        "- `station_data` seems relatively clean as there are no missing values.\n",
        "- There are 72 unique station names each with a unique location which is reasonable."
      ]
    },
    {
      "cell_type": "markdown",
      "metadata": {
        "id": "0Tlx2wBqRBwF"
      },
      "source": [
        "## Validating data and Cleaning `trips_data`\n",
        "1. missing `month` and `year` values will be filled using `start_time`\n",
        "2. rows with invalid stations based on `station_data` station `names` will be removed\n",
        "3. `start_station_id` and `end_station_id` will be filled by merging data from `station_data`\n",
        "4. remaing rows with na will be dropped as they will be assumed as invalid data"
      ]
    },
    {
      "cell_type": "code",
      "execution_count": 10,
      "metadata": {
        "id": "bQX20mfmZrdy"
      },
      "outputs": [],
      "source": [
        "## convert start_time data in trips_data to a Python datetime object\n",
        "def str_to_datetime(s):\n",
        "  '''\n",
        "  takes a string of input \"DD/MM/YYYY  HH:MM:SS\" (note the double space)\n",
        "  returns a datetime object with attributes .year , .day , .month , .hour etc \n",
        "  '''\n",
        "  YY, MM, DD, = int(s[:-9].split(\"-\")[0]), int(s[:-9].split(\"-\")[1]), int(s[:-9].split(\"-\")[2])\n",
        "  hh, mm, ss = int(s[-8:].split(\":\")[0]), int(s[-8:].split(\":\")[1]), int(s[-8:].split(\":\")[2])\n",
        "  return dt.datetime(YY, MM, DD, hour = hh, minute= mm, second= ss)\n",
        "\n",
        "trips_data['start_datetime'] = list(map(lambda x: str_to_datetime(x), trips_data['start_time']))\n",
        "trips_data = trips_data.drop(['start_time'], axis = 1)\n",
        "\n",
        "## create a column for starting hour \n",
        "trips_data['start_hour'] = list(map(lambda x: x.hour, trips_data['start_datetime']))\n",
        "\n",
        "## modifying the year and month columns to fill up the empty values\n",
        "trips_data['year'] = list(map(lambda x: x.year, trips_data['start_datetime']))\n",
        "trips_data['month'] = list(map(lambda x: x.month, trips_data['start_datetime']))"
      ]
    },
    {
      "cell_type": "code",
      "execution_count": 11,
      "metadata": {
        "id": "qkPnmPgXd90N"
      },
      "outputs": [],
      "source": [
        "## dictionary of mistyped words based on observation\n",
        "mistyped = {'ACC - West & 12th': 'ACC - West & 12th Street', \n",
        "            'Convention Center/ 3rd & Trinity': 'Convention Center / 3rd & Trinity', \n",
        "            'East 11th Street at Victory Grill': 'East 11th St. at Victory Grill', \n",
        "            'Red River @ LBJ Library': 'Red River & LBJ Library',\n",
        "            'Main Office': 'OFFICE/Main/Shop/Repair',\n",
        "            'Shop': 'OFFICE/Main/Shop/Repair', \n",
        "            'Main Shop': 'OFFICE/Main/Shop/Repair',\n",
        "            'Repair Shop': 'OFFICE/Main/Shop/Repair',\n",
        "            'Re-branding': 'OFFICE/Main/Shop/Repair',\n",
        "            'Customer Service': 'OFFICE/Main/Shop/Repair'} \n",
        "          \n",
        "## use a set for fast lookup\n",
        "station_name_set = set(station_data['name'])\n",
        "\n",
        "trips_data['start_station_name'] = list(map(lambda x: x if x not in mistyped else mistyped[x], trips_data['start_station_name']))\n",
        "trips_data['end_station_name'] = list(map(lambda x: x if x not in mistyped else mistyped[x], trips_data['end_station_name']))\n",
        "\n",
        "invalid_bool = list(map(lambda idx: (trips_data['start_station_name'][idx] not in station_name_set) \\\n",
        "                                    or (trips_data['end_station_name'][idx] not in station_name_set), range(len(trips_data)))) \n",
        "                                    # not required to check if station names are NA since we know that no 'NA' values exist\n",
        "valid_bool = list(map(lambda x: not x, invalid_bool))\n",
        "\n",
        "invalid_stations_data = trips_data[invalid_bool] #24030 rows, this contains some stations that do not exist as well as 'Stolen' and 'Missing' bikes\n",
        "trips_data = trips_data[valid_bool] #625201 rows"
      ]
    },
    {
      "cell_type": "code",
      "execution_count": 12,
      "metadata": {
        "id": "UdjrnC6NZqCt"
      },
      "outputs": [],
      "source": [
        "## left join station data id to trips data according to starting station\n",
        "trips_data = trips_data.merge(station_data[['name','station_id']],left_on='start_station_name', right_on='name', how='left')\n",
        "trips_data = trips_data.drop(['name','start_station_id'], axis=1) # drop the 'start_station_id' column from trips_data\n",
        "trips_data = trips_data.rename({'station_id':'start_station_id'}, axis = 1)\n",
        "## left join station data to trips data according to end station\n",
        "trips_data = trips_data.merge(station_data[['name','station_id']],left_on='end_station_name', right_on='name', how='left')\n",
        "trips_data = trips_data.drop(['name','end_station_id'], axis=1) # drop the 'end_station_id' column from trips_data\n",
        "trips_data = trips_data.rename({'station_id':'end_station_id'}, axis = 1)"
      ]
    },
    {
      "cell_type": "code",
      "execution_count": 13,
      "metadata": {
        "id": "-3KxSvEKXGnw"
      },
      "outputs": [],
      "source": [
        "trips_data = trips_data.dropna()"
      ]
    },
    {
      "cell_type": "code",
      "execution_count": 14,
      "metadata": {
        "colab": {
          "base_uri": "https://localhost:8080/"
        },
        "id": "gyGwj7AgWTrV",
        "outputId": "06876e8d-0b29-4dbe-dc1d-b73523cfd6dc"
      },
      "outputs": [
        {
          "data": {
            "text/plain": [
              "bikeid                0\n",
              "checkout_time         0\n",
              "duration_minutes      0\n",
              "end_station_name      0\n",
              "month                 0\n",
              "start_station_name    0\n",
              "subscriber_type       0\n",
              "trip_id               0\n",
              "year                  0\n",
              "start_datetime        0\n",
              "start_hour            0\n",
              "start_station_id      0\n",
              "end_station_id        0\n",
              "dtype: int64"
            ]
          },
          "execution_count": 14,
          "metadata": {},
          "output_type": "execute_result"
        }
      ],
      "source": [
        "trips_data.isna().sum()"
      ]
    },
    {
      "cell_type": "markdown",
      "metadata": {
        "id": "wmTP6-LqNBGc"
      },
      "source": [
        "Through this section we have cleaned and validated the data and removed all missing values."
      ]
    },
    {
      "cell_type": "markdown",
      "metadata": {
        "id": "eDB2uPFHTrMH"
      },
      "source": [
        "## Creating new variables\n",
        "This is to help analysis and visualisation of the data\n",
        "\n"
      ]
    },
    {
      "cell_type": "markdown",
      "metadata": {
        "id": "Z8LLYzP6Tu1m"
      },
      "source": [
        "### `trips_data` making use of Python datetime object fuctions\n",
        "1. Time categories `parts_of_day` on a day based on weather forecast categorisations (can be found here: https://wgntv.com/weather/how-do-you-define-daytime-and-evening-times-in-a-weather-forecast/) \n",
        "2. Day categories, numerically `day` starting from 0-6 (Monday-Sunday) and as a String `type_of_day` which will be 'Weekday' or 'Weekend'"
      ]
    },
    {
      "cell_type": "code",
      "execution_count": 15,
      "metadata": {
        "id": "hMw2hGttJAy5"
      },
      "outputs": [],
      "source": [
        "def hh_to_category(n):\n",
        "  '''\n",
        "  takes in an integer n where 1 <= n <= 24\n",
        "  returns a category (string) describing the part of the day it belongs to \n",
        "  '''\n",
        "  if n < 3:\n",
        "    return \"midnight\"\n",
        "  elif n < 6:\n",
        "    return \"pre-dawn\"\n",
        "  elif n < 9:\n",
        "    return 'early morning'\n",
        "  elif n < 12:\n",
        "    return 'late morning'\n",
        "  elif n < 15:\n",
        "    return 'early afternoon'\n",
        "  elif n < 18:\n",
        "    return 'late afternoon'\n",
        "  elif n < 21:\n",
        "    return 'evening'\n",
        "  elif n <= 24:\n",
        "    return 'night'\n",
        "\n",
        "grouped_time_in_a_day = list(map(lambda x: hh_to_category(x), trips_data['start_hour']))\n",
        "trips_data['parts_of_day'] = grouped_time_in_a_day"
      ]
    },
    {
      "cell_type": "code",
      "execution_count": 16,
      "metadata": {
        "id": "HbbDaMQnU6I4"
      },
      "outputs": [],
      "source": [
        "trips_data['day'] = list(map(lambda x: x.weekday(), trips_data['start_datetime'])) ## 0 is Monday, 6 is Sunday\n",
        "trips_data['type_of_day'] = list(map(lambda x: 'Weekday' if x<5 else 'Weekend', trips_data['day']))"
      ]
    },
    {
      "cell_type": "code",
      "execution_count": 17,
      "metadata": {
        "colab": {
          "base_uri": "https://localhost:8080/",
          "height": 696
        },
        "id": "GX_gTa1kFCJT",
        "outputId": "632bfa54-b0d2-4457-a7cc-c9e5ae9f6586"
      },
      "outputs": [
        {
          "data": {
            "text/html": [
              "<div>\n",
              "<style scoped>\n",
              "    .dataframe tbody tr th:only-of-type {\n",
              "        vertical-align: middle;\n",
              "    }\n",
              "\n",
              "    .dataframe tbody tr th {\n",
              "        vertical-align: top;\n",
              "    }\n",
              "\n",
              "    .dataframe thead th {\n",
              "        text-align: right;\n",
              "    }\n",
              "</style>\n",
              "<table border=\"1\" class=\"dataframe\">\n",
              "  <thead>\n",
              "    <tr style=\"text-align: right;\">\n",
              "      <th></th>\n",
              "      <th>bikeid</th>\n",
              "      <th>checkout_time</th>\n",
              "      <th>duration_minutes</th>\n",
              "      <th>end_station_name</th>\n",
              "      <th>month</th>\n",
              "      <th>start_station_name</th>\n",
              "      <th>subscriber_type</th>\n",
              "      <th>trip_id</th>\n",
              "      <th>year</th>\n",
              "      <th>start_datetime</th>\n",
              "      <th>start_hour</th>\n",
              "      <th>start_station_id</th>\n",
              "      <th>end_station_id</th>\n",
              "      <th>parts_of_day</th>\n",
              "      <th>day</th>\n",
              "      <th>type_of_day</th>\n",
              "    </tr>\n",
              "  </thead>\n",
              "  <tbody>\n",
              "    <tr>\n",
              "      <th>0</th>\n",
              "      <td>8.0</td>\n",
              "      <td>19:12:00</td>\n",
              "      <td>41</td>\n",
              "      <td>Trinity &amp; 6th Street</td>\n",
              "      <td>3</td>\n",
              "      <td>Waller &amp; 6th St.</td>\n",
              "      <td>Walk Up</td>\n",
              "      <td>9900082882</td>\n",
              "      <td>2015</td>\n",
              "      <td>2015-03-19 19:12:00</td>\n",
              "      <td>19</td>\n",
              "      <td>2536</td>\n",
              "      <td>2565</td>\n",
              "      <td>evening</td>\n",
              "      <td>3</td>\n",
              "      <td>Weekday</td>\n",
              "    </tr>\n",
              "    <tr>\n",
              "      <th>1</th>\n",
              "      <td>141.0</td>\n",
              "      <td>2:06:04</td>\n",
              "      <td>6</td>\n",
              "      <td>South Congress &amp; Academy</td>\n",
              "      <td>10</td>\n",
              "      <td>2nd &amp; Congress</td>\n",
              "      <td>Local365</td>\n",
              "      <td>12617682</td>\n",
              "      <td>2016</td>\n",
              "      <td>2016-10-30 02:06:04</td>\n",
              "      <td>2</td>\n",
              "      <td>2494</td>\n",
              "      <td>2570</td>\n",
              "      <td>midnight</td>\n",
              "      <td>6</td>\n",
              "      <td>Weekend</td>\n",
              "    </tr>\n",
              "    <tr>\n",
              "      <th>2</th>\n",
              "      <td>578.0</td>\n",
              "      <td>16:28:27</td>\n",
              "      <td>13</td>\n",
              "      <td>Convention Center / 4th St. @ MetroRail</td>\n",
              "      <td>3</td>\n",
              "      <td>Bullock Museum @ Congress &amp; MLK</td>\n",
              "      <td>Local365</td>\n",
              "      <td>9075366</td>\n",
              "      <td>2016</td>\n",
              "      <td>2016-03-11 16:28:27</td>\n",
              "      <td>16</td>\n",
              "      <td>2538</td>\n",
              "      <td>2498</td>\n",
              "      <td>late afternoon</td>\n",
              "      <td>4</td>\n",
              "      <td>Weekday</td>\n",
              "    </tr>\n",
              "    <tr>\n",
              "      <th>3</th>\n",
              "      <td>555.0</td>\n",
              "      <td>15:12:00</td>\n",
              "      <td>80</td>\n",
              "      <td>Toomey Rd @ South Lamar</td>\n",
              "      <td>11</td>\n",
              "      <td>Capitol Station / Congress &amp; 11th</td>\n",
              "      <td>24-Hour Kiosk (Austin B-cycle)</td>\n",
              "      <td>9900319298</td>\n",
              "      <td>2014</td>\n",
              "      <td>2014-11-23 15:12:00</td>\n",
              "      <td>15</td>\n",
              "      <td>2497</td>\n",
              "      <td>2712</td>\n",
              "      <td>late afternoon</td>\n",
              "      <td>6</td>\n",
              "      <td>Weekend</td>\n",
              "    </tr>\n",
              "    <tr>\n",
              "      <th>4</th>\n",
              "      <td>86.0</td>\n",
              "      <td>15:39:13</td>\n",
              "      <td>25</td>\n",
              "      <td>MoPac Pedestrian Bridge @ Veterans Drive</td>\n",
              "      <td>4</td>\n",
              "      <td>Rainey St @ Cummings</td>\n",
              "      <td>Walk Up</td>\n",
              "      <td>14468597</td>\n",
              "      <td>2017</td>\n",
              "      <td>2017-04-16 15:39:13</td>\n",
              "      <td>15</td>\n",
              "      <td>2707</td>\n",
              "      <td>3377</td>\n",
              "      <td>late afternoon</td>\n",
              "      <td>6</td>\n",
              "      <td>Weekend</td>\n",
              "    </tr>\n",
              "    <tr>\n",
              "      <th>...</th>\n",
              "      <td>...</td>\n",
              "      <td>...</td>\n",
              "      <td>...</td>\n",
              "      <td>...</td>\n",
              "      <td>...</td>\n",
              "      <td>...</td>\n",
              "      <td>...</td>\n",
              "      <td>...</td>\n",
              "      <td>...</td>\n",
              "      <td>...</td>\n",
              "      <td>...</td>\n",
              "      <td>...</td>\n",
              "      <td>...</td>\n",
              "      <td>...</td>\n",
              "      <td>...</td>\n",
              "      <td>...</td>\n",
              "    </tr>\n",
              "    <tr>\n",
              "      <th>625196</th>\n",
              "      <td>52.0</td>\n",
              "      <td>0:12:00</td>\n",
              "      <td>90</td>\n",
              "      <td>Red River &amp; 8th Street</td>\n",
              "      <td>7</td>\n",
              "      <td>East 6th &amp; Pedernales St.</td>\n",
              "      <td>24-Hour Kiosk (Austin B-cycle)</td>\n",
              "      <td>9900185926</td>\n",
              "      <td>2014</td>\n",
              "      <td>2014-07-06 00:12:00</td>\n",
              "      <td>0</td>\n",
              "      <td>2544</td>\n",
              "      <td>2571</td>\n",
              "      <td>midnight</td>\n",
              "      <td>6</td>\n",
              "      <td>Weekend</td>\n",
              "    </tr>\n",
              "    <tr>\n",
              "      <th>625197</th>\n",
              "      <td>104.0</td>\n",
              "      <td>17:20:44</td>\n",
              "      <td>53</td>\n",
              "      <td>City Hall / Lavaca &amp; 2nd</td>\n",
              "      <td>2</td>\n",
              "      <td>6th &amp; Congress</td>\n",
              "      <td>Walk Up</td>\n",
              "      <td>13649794</td>\n",
              "      <td>2017</td>\n",
              "      <td>2017-02-06 17:20:44</td>\n",
              "      <td>17</td>\n",
              "      <td>3619</td>\n",
              "      <td>2499</td>\n",
              "      <td>late afternoon</td>\n",
              "      <td>0</td>\n",
              "      <td>Weekday</td>\n",
              "    </tr>\n",
              "    <tr>\n",
              "      <th>625198</th>\n",
              "      <td>240.0</td>\n",
              "      <td>13:12:55</td>\n",
              "      <td>44</td>\n",
              "      <td>4th &amp; Congress</td>\n",
              "      <td>11</td>\n",
              "      <td>4th &amp; Congress</td>\n",
              "      <td>Walk Up</td>\n",
              "      <td>9900329990</td>\n",
              "      <td>2015</td>\n",
              "      <td>2015-11-18 13:12:55</td>\n",
              "      <td>13</td>\n",
              "      <td>2495</td>\n",
              "      <td>2495</td>\n",
              "      <td>early afternoon</td>\n",
              "      <td>2</td>\n",
              "      <td>Weekday</td>\n",
              "    </tr>\n",
              "    <tr>\n",
              "      <th>625199</th>\n",
              "      <td>421.0</td>\n",
              "      <td>14:45:34</td>\n",
              "      <td>106</td>\n",
              "      <td>2nd &amp; Congress</td>\n",
              "      <td>5</td>\n",
              "      <td>2nd &amp; Congress</td>\n",
              "      <td>Try Before You Buy Special</td>\n",
              "      <td>10219003</td>\n",
              "      <td>2016</td>\n",
              "      <td>2016-05-29 14:45:34</td>\n",
              "      <td>14</td>\n",
              "      <td>2494</td>\n",
              "      <td>2494</td>\n",
              "      <td>early afternoon</td>\n",
              "      <td>6</td>\n",
              "      <td>Weekend</td>\n",
              "    </tr>\n",
              "    <tr>\n",
              "      <th>625200</th>\n",
              "      <td>206.0</td>\n",
              "      <td>13:12:31</td>\n",
              "      <td>28</td>\n",
              "      <td>ACC - West &amp; 12th Street</td>\n",
              "      <td>12</td>\n",
              "      <td>ACC - West &amp; 12th Street</td>\n",
              "      <td>Local365</td>\n",
              "      <td>9900345497</td>\n",
              "      <td>2015</td>\n",
              "      <td>2015-12-08 13:12:31</td>\n",
              "      <td>13</td>\n",
              "      <td>2546</td>\n",
              "      <td>2546</td>\n",
              "      <td>early afternoon</td>\n",
              "      <td>1</td>\n",
              "      <td>Weekday</td>\n",
              "    </tr>\n",
              "  </tbody>\n",
              "</table>\n",
              "<p>622438 rows × 16 columns</p>\n",
              "</div>"
            ],
            "text/plain": [
              "        bikeid checkout_time  duration_minutes  \\\n",
              "0          8.0      19:12:00                41   \n",
              "1        141.0       2:06:04                 6   \n",
              "2        578.0      16:28:27                13   \n",
              "3        555.0      15:12:00                80   \n",
              "4         86.0      15:39:13                25   \n",
              "...        ...           ...               ...   \n",
              "625196    52.0       0:12:00                90   \n",
              "625197   104.0      17:20:44                53   \n",
              "625198   240.0      13:12:55                44   \n",
              "625199   421.0      14:45:34               106   \n",
              "625200   206.0      13:12:31                28   \n",
              "\n",
              "                                end_station_name  month  \\\n",
              "0                           Trinity & 6th Street      3   \n",
              "1                       South Congress & Academy     10   \n",
              "2        Convention Center / 4th St. @ MetroRail      3   \n",
              "3                        Toomey Rd @ South Lamar     11   \n",
              "4       MoPac Pedestrian Bridge @ Veterans Drive      4   \n",
              "...                                          ...    ...   \n",
              "625196                    Red River & 8th Street      7   \n",
              "625197                  City Hall / Lavaca & 2nd      2   \n",
              "625198                            4th & Congress     11   \n",
              "625199                            2nd & Congress      5   \n",
              "625200                  ACC - West & 12th Street     12   \n",
              "\n",
              "                       start_station_name                 subscriber_type  \\\n",
              "0                        Waller & 6th St.                         Walk Up   \n",
              "1                          2nd & Congress                        Local365   \n",
              "2         Bullock Museum @ Congress & MLK                        Local365   \n",
              "3       Capitol Station / Congress & 11th  24-Hour Kiosk (Austin B-cycle)   \n",
              "4                    Rainey St @ Cummings                         Walk Up   \n",
              "...                                   ...                             ...   \n",
              "625196          East 6th & Pedernales St.  24-Hour Kiosk (Austin B-cycle)   \n",
              "625197                     6th & Congress                         Walk Up   \n",
              "625198                     4th & Congress                         Walk Up   \n",
              "625199                     2nd & Congress      Try Before You Buy Special   \n",
              "625200           ACC - West & 12th Street                        Local365   \n",
              "\n",
              "           trip_id  year      start_datetime  start_hour  start_station_id  \\\n",
              "0       9900082882  2015 2015-03-19 19:12:00          19              2536   \n",
              "1         12617682  2016 2016-10-30 02:06:04           2              2494   \n",
              "2          9075366  2016 2016-03-11 16:28:27          16              2538   \n",
              "3       9900319298  2014 2014-11-23 15:12:00          15              2497   \n",
              "4         14468597  2017 2017-04-16 15:39:13          15              2707   \n",
              "...            ...   ...                 ...         ...               ...   \n",
              "625196  9900185926  2014 2014-07-06 00:12:00           0              2544   \n",
              "625197    13649794  2017 2017-02-06 17:20:44          17              3619   \n",
              "625198  9900329990  2015 2015-11-18 13:12:55          13              2495   \n",
              "625199    10219003  2016 2016-05-29 14:45:34          14              2494   \n",
              "625200  9900345497  2015 2015-12-08 13:12:31          13              2546   \n",
              "\n",
              "        end_station_id     parts_of_day  day type_of_day  \n",
              "0                 2565          evening    3     Weekday  \n",
              "1                 2570         midnight    6     Weekend  \n",
              "2                 2498   late afternoon    4     Weekday  \n",
              "3                 2712   late afternoon    6     Weekend  \n",
              "4                 3377   late afternoon    6     Weekend  \n",
              "...                ...              ...  ...         ...  \n",
              "625196            2571         midnight    6     Weekend  \n",
              "625197            2499   late afternoon    0     Weekday  \n",
              "625198            2495  early afternoon    2     Weekday  \n",
              "625199            2494  early afternoon    6     Weekend  \n",
              "625200            2546  early afternoon    1     Weekday  \n",
              "\n",
              "[622438 rows x 16 columns]"
            ]
          },
          "execution_count": 17,
          "metadata": {},
          "output_type": "execute_result"
        }
      ],
      "source": [
        "trips_data"
      ]
    },
    {
      "cell_type": "markdown",
      "metadata": {
        "id": "QPF7QO_enTGs"
      },
      "source": [
        "## Downloading data"
      ]
    },
    {
      "cell_type": "code",
      "execution_count": 18,
      "metadata": {
        "id": "cpJ5qAgcnXhZ"
      },
      "outputs": [],
      "source": [
        "if download_files:\n",
        "  trips_data.to_csv(\"/content/trips_data.csv\")"
      ]
    }
  ],
  "metadata": {
    "colab": {
      "provenance": []
    },
    "kernelspec": {
      "display_name": "Python 3",
      "language": "python",
      "name": "python3"
    },
    "language_info": {
      "codemirror_mode": {
        "name": "ipython",
        "version": 3
      },
      "file_extension": ".py",
      "mimetype": "text/x-python",
      "name": "python",
      "nbconvert_exporter": "python",
      "pygments_lexer": "ipython3",
      "version": "3.10.10"
    },
    "vscode": {
      "interpreter": {
        "hash": "871552285eb9f23731dbc080f6c757e78548a7216343a2324f2199d15751b26c"
      }
    }
  },
  "nbformat": 4,
  "nbformat_minor": 0
}
